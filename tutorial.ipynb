{
 "cells": [
  {
   "cell_type": "code",
   "execution_count": 5,
   "metadata": {},
   "outputs": [],
   "source": [
    "%ma\n",
    "from DSH import MIfile as MI"
   ]
  },
  {
   "cell_type": "code",
   "execution_count": 6,
   "metadata": {},
   "outputs": [
    {
     "name": "stdout",
     "output_type": "stream",
     "text": [
      "Reading config file: C:\\Users\\steaime\\Documents\\Research\\Codes\\DSH\\DSHpy\\DSH\\config_MIfile.ini\n"
     ]
    }
   ],
   "source": [
    "froot = 'C:\\\\Users\\\\steaime\\\\Documents\\\\Research\\\\MyProjects\\\\Fracking\\\\DataDSH_Sabba\\\\CMAP_mv_avg_S54\\\\'\n",
    "fname = froot + 'mv_corr_map_d1.dat'\n",
    "metadata_fname = froot + 'metadata.ini'\n",
    "test = MI.MIfile(fname, metadata_fname)"
   ]
  },
  {
   "cell_type": "code",
   "execution_count": 7,
   "metadata": {},
   "outputs": [
    {
     "data": {
      "text/plain": [
       "<MIfile: 0+100x512x640x4 bytes>"
      ]
     },
     "execution_count": 7,
     "metadata": {},
     "output_type": "execute_result"
    }
   ],
   "source": [
    "test"
   ]
  },
  {
   "cell_type": "code",
   "execution_count": 8,
   "metadata": {},
   "outputs": [
    {
     "name": "stdout",
     "output_type": "stream",
     "text": [
      "\n",
      "|---------------|\n",
      "| MIfile class: |\n",
      "|---------------|\n",
      " Filename     : C:\\Users\\steaime\\Documents\\Research\\MyProjects\\Fracking\\DataDSH_Sabba\\CMAP_mv_avg_S54\\mv_corr_map_d1.dat\n",
      " Header       : 0bytes\n",
      " Shape        : [100, 512, 640]px\n",
      " Pixel format : f (4 bytes/px)\n",
      "-----------------\n"
     ]
    }
   ],
   "source": [
    "print(test)"
   ]
  },
  {
   "cell_type": "code",
   "execution_count": null,
   "metadata": {},
   "outputs": [],
   "source": []
  }
 ],
 "metadata": {
  "kernelspec": {
   "display_name": "Python 3",
   "language": "python",
   "name": "python3"
  },
  "language_info": {
   "codemirror_mode": {
    "name": "ipython",
    "version": 3
   },
   "file_extension": ".py",
   "mimetype": "text/x-python",
   "name": "python",
   "nbconvert_exporter": "python",
   "pygments_lexer": "ipython3",
   "version": "3.8.3"
  }
 },
 "nbformat": 4,
 "nbformat_minor": 4
}
