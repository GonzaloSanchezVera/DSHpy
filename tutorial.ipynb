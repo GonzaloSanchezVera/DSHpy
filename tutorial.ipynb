{
 "cells": [
  {
   "cell_type": "code",
   "execution_count": 1,
   "metadata": {},
   "outputs": [],
   "source": [
    "from DSH import MIfile"
   ]
  },
  {
   "cell_type": "code",
   "execution_count": null,
   "metadata": {},
   "outputs": [],
   "source": [
    "froot = 'C:\\\\Users\\\\steaime\\\\Documents\\\\Research\\\\MyProjects\\\\Fracking\\\\DataDSH_Sabba\\\\CMAP_mv_avg_S54\\\\'\n",
    "fname = froot + 'mv_corr_map_d1.dat'\n",
    "metadata_fname = \n",
    "test = MIfile('')"
   ]
  }
 ],
 "metadata": {
  "kernelspec": {
   "display_name": "Python 3",
   "language": "python",
   "name": "python3"
  },
  "language_info": {
   "codemirror_mode": {
    "name": "ipython",
    "version": 3
   },
   "file_extension": ".py",
   "mimetype": "text/x-python",
   "name": "python",
   "nbconvert_exporter": "python",
   "pygments_lexer": "ipython3",
   "version": "3.8.3"
  }
 },
 "nbformat": 4,
 "nbformat_minor": 4
}
